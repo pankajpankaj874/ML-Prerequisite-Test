{
 "cells": [
  {
   "cell_type": "markdown",
   "id": "dc97c70d",
   "metadata": {},
   "source": [
    "**Q1**\n",
    "\n",
    "Multiplications: n\\*m\\*k\n",
    "As the matrices are of order (n,k) & (k,m), the product will be of order (n,m). Means there are n\\*m elements in total. Each element have k products, so total products are n*m*k.\n",
    "\n",
    "Addition: n\\*m\\*(k-1)\n",
    "Similarly as there are n\\*m elements and there are k-1 additions in each element. So in total there are n*m*(k-1) additions involved."
   ]
  },
  {
   "cell_type": "markdown",
   "id": "91bb1d0a",
   "metadata": {},
   "source": [
    "**Q2**\n",
    "\n",
    "Python code to multiply the above two matrices - "
   ]
  },
  {
   "cell_type": "code",
   "execution_count": 12,
   "id": "f7f41966",
   "metadata": {},
   "outputs": [
    {
     "name": "stdout",
     "output_type": "stream",
     "text": [
      "[[117, 169, 115, 162, 132, 100, 115], [130, 182, 149, 175, 111, 110, 131], [70, 135, 67, 133, 85, 69, 105], [140, 116, 96, 149, 110, 99, 116], [149, 162, 110, 163, 87, 125, 112], [143, 172, 84, 173, 103, 126, 118], [131, 180, 128, 189, 151, 106, 146], [134, 200, 121, 188, 141, 120, 131]]\n",
      "[[117 169 115 162 132 100 115]\n",
      " [130 182 149 175 111 110 131]\n",
      " [ 70 135  67 133  85  69 105]\n",
      " [140 116  96 149 110  99 116]\n",
      " [149 162 110 163  87 125 112]\n",
      " [143 172  84 173 103 126 118]\n",
      " [131 180 128 189 151 106 146]\n",
      " [134 200 121 188 141 120 131]]\n",
      "time taken by using list of lists is 0.0016133000026457012\n",
      "time taken by using numpy is 0.00023090001195669174\n"
     ]
    }
   ],
   "source": [
    "import numpy as np\n",
    "import time\n",
    "A = np.random.randint(0,10,size=(8,5))\n",
    "B = np.random.randint(0,10,size=(5,7))\n",
    "n = len(A)\n",
    "m = len(B[0])\n",
    "\n",
    "s1 = time.perf_counter()\n",
    "mul1=[]\n",
    "for i in range(n):\n",
    "    lst = []\n",
    "    for j in range(m):\n",
    "        element = 0\n",
    "        for k in range(len(A[0])):\n",
    "            element+=A[i][k]*B[k][j]\n",
    "        lst.append(element)\n",
    "    mul1.append(lst)\n",
    "e1 = time.perf_counter()\n",
    "print(mul1)\n",
    "\n",
    "s2 = time.perf_counter()\n",
    "A = np.array(A)\n",
    "B  = np.array(B)\n",
    "mul2 = np.dot(A,B)\n",
    "e2 = time.perf_counter()\n",
    "print(mul2)\n",
    "\n",
    "print(\"time taken by using list of lists is\",e1-s1)\n",
    "print(\"time taken by using numpy is\",e2-s2)"
   ]
  },
  {
   "cell_type": "markdown",
   "id": "e5d2750b",
   "metadata": {},
   "source": [
    "Here we can see that numpy method takes less time as compared to the list method. So, numpy is faster than the list of list method. The reason fo that is that numpy allows operations on vectors, which makes it faster than on doing operation on every element. Along with that it also uses parallel processing and can do multiple operations at a same time."
   ]
  },
  {
   "cell_type": "markdown",
   "id": "73c44344",
   "metadata": {},
   "source": [
    "**Q3**\n",
    "\n",
    "The time of the given method is O(N^2)\n",
    "To improve the time complexity, we can first sort the array and then find the median. The time complexity in this case will be O(NlogN).\n",
    "\n",
    "Below is the code for that"
   ]
  },
  {
   "cell_type": "code",
   "execution_count": 10,
   "id": "700e3c41",
   "metadata": {},
   "outputs": [
    {
     "name": "stdout",
     "output_type": "stream",
     "text": [
      "[190576 612762 539385 341494 880622 390775 120471 136302 742752  68435\n",
      " 643291 962128 396238 906693 565426 411531 130653 479285 910146 732706\n",
      " 964942 250827  26419 399617 764079 804882  57571 519265 726018 173237\n",
      " 640309 279487 985882 952569 255352 182267 145291 612963 998722 460811\n",
      " 604057 510956 525847 755419 300649 735597 771620 969169 402985 879588\n",
      " 478817 288192 586770 859895 911324 708365  46391 303411 383916 234287\n",
      " 603927 887833 822718 147954  34626 207297  79600  49442 818325 275161\n",
      " 982803 471814 727273 623006 862044 725393 570432 812246 920321 213326\n",
      " 127228  10021 516245 310835 704134 315420 837566 199908 446762 569955\n",
      " 899040 585400  80828 945778 994233 905404 962229  34931 259440 358413]\n",
      "median using given method is: 532616.0\n",
      "and the time taken is 0.003837500000372529 \n",
      "\n",
      "median using optimal method is:  532616.0\n",
      "and the time taken is 0.000622499966993928 \n",
      "\n",
      "median using numpy method is:  532616.0\n",
      "and the time taken is 0.0004008000250905752 \n",
      "\n"
     ]
    }
   ],
   "source": [
    "import numpy as np\n",
    "import time\n",
    "M = np.random.randint(1,1000000,size=100);\n",
    "print(M)\n",
    "M_numpy = np.array(M)\n",
    "\n",
    "n = len(M)\n",
    "m = M.copy()\n",
    "s1 = time.perf_counter()\n",
    "if n%2==0:\n",
    "    k = n//2\n",
    "    for i in range (0,k+1):\n",
    "        maxi = m[0]\n",
    "        index=0\n",
    "        for j in range (1,n) :\n",
    "            if maxi<m[j]:\n",
    "                maxi = m[j]\n",
    "                index = j\n",
    "        if i<k-1:\n",
    "            m[index]=0\n",
    "        elif i==k-1:\n",
    "            first = m[index]\n",
    "            m[index]=0\n",
    "        else:\n",
    "            second = m[index]\n",
    "    median1 = (first+second)/2\n",
    "\n",
    "else:\n",
    "    k = n//2\n",
    "    for i in range (0,k+1):\n",
    "        maxi = m[0]\n",
    "        index=0\n",
    "        for j in range (1,n) :\n",
    "            if maxi<m[j]:\n",
    "                maxi = m[j]\n",
    "                index = j \n",
    "        if i<k:\n",
    "            m[index]=0\n",
    "        else:\n",
    "            median1 = m[index]  \n",
    "e1 = time.perf_counter()\n",
    "print(\"median using given method is:\",median1)\n",
    "print(\"and the time taken is\",e1-s1,\"\\n\")\n",
    "\n",
    "s2 = time.perf_counter()\n",
    "M.sort()\n",
    "if(n%2==0):\n",
    "    median2 = (M[n//2]+M[(n//2)-1])/2\n",
    "else:\n",
    "    median2 = M[n//2]\n",
    "e2 = time.perf_counter()\n",
    "print(\"median using optimal method is: \",median2)\n",
    "print(\"and the time taken is\",e2-s2,\"\\n\")\n",
    "\n",
    "s3 = time.perf_counter()\n",
    "median3 = np.median(M_numpy)\n",
    "e3 = time.perf_counter()\n",
    "print(\"median using numpy method is: \",median3)\n",
    "print(\"and the time taken is\",e3-s3,\"\\n\")"
   ]
  },
  {
   "cell_type": "markdown",
   "id": "a3e1a8f6",
   "metadata": {},
   "source": [
    "Time complexity of the numpy method is least for larger values"
   ]
  },
  {
   "cell_type": "markdown",
   "id": "1b304fab",
   "metadata": {},
   "source": [
    "**Q4**\n",
    "\n",
    "The gradient of given function with respect to x is : 2xy + y^3.cos(x)\n",
    "\n",
    "and with respect to y, it is : x^2 + 3y^2.sin(x)\n"
   ]
  },
  {
   "cell_type": "markdown",
   "id": "82e7bdb7",
   "metadata": {},
   "source": [
    "**Q5**\n",
    "\n",
    "Below is the code using JAX"
   ]
  },
  {
   "cell_type": "code",
   "execution_count": 15,
   "id": "24697274",
   "metadata": {},
   "outputs": [
    {
     "name": "stdout",
     "output_type": "stream",
     "text": [
      "Analytical gradients are : [(Array(167.29614, dtype=float32, weak_type=True), Array(-115.96187, dtype=float32, weak_type=True)), (Array(-65.88772, dtype=float32, weak_type=True), Array(102.20412, dtype=float32, weak_type=True))] \n",
      "\n",
      "jax gradients are : [(Array(167.29614, dtype=float32, weak_type=True), Array(-115.96187, dtype=float32, weak_type=True)), (Array(-65.88772, dtype=float32, weak_type=True), Array(102.20412, dtype=float32, weak_type=True))]\n"
     ]
    }
   ],
   "source": [
    "import jax\n",
    "import jax.numpy as jnp\n",
    "\n",
    "def func(x, y):\n",
    "    return x**2 * y + y**3 * jnp.sin(x)\n",
    "\n",
    "grd = jax.grad(func, argnums=(0, 1))\n",
    "\n",
    "values = [(5.0,7.0),(2.0,6.0)]\n",
    "\n",
    "analytical_sol=[]\n",
    "using_jax = []\n",
    "\n",
    "for x,y  in values:\n",
    "    analytical = (2*x*y + y**3 * jnp.cos(x), x**2 + 3*y**2 * jnp.sin(x))\n",
    "    jax_method = grd(x, y)\n",
    "    analytical_sol.append(analytical)\n",
    "    using_jax.append(jax_method)\n",
    "    \n",
    "print(\"Analytical gradients are :\",analytical_sol,\"\\n\")\n",
    "print(\"jax gradients are :\",using_jax)"
   ]
  },
  {
   "cell_type": "markdown",
   "id": "ce49865f",
   "metadata": {},
   "source": [
    "**Q6**\n",
    "\n",
    "Below is the code for confirming analytical solution using sympy"
   ]
  },
  {
   "cell_type": "code",
   "execution_count": 22,
   "id": "55aacc49",
   "metadata": {},
   "outputs": [
    {
     "data": {
      "text/plain": [
       "(2*x*y + y**3*cos(x), x**2 + 3*y**2*sin(x))"
      ]
     },
     "execution_count": 22,
     "metadata": {},
     "output_type": "execute_result"
    }
   ],
   "source": [
    "import sympy as sp\n",
    "\n",
    "x, y = sp.symbols('x y')\n",
    "func = x**2 * y + y**3 * sp.sin(x)\n",
    "\n",
    "x_grd = sp.diff(func, x)\n",
    "y_grd = sp.diff(func, y)\n",
    "\n",
    "x_grd,y_grd"
   ]
  },
  {
   "cell_type": "markdown",
   "id": "0fb1622a",
   "metadata": {},
   "source": [
    "**Q7**\n",
    "\n",
    "Below is the nested dictionary to store  hierarchical information"
   ]
  },
  {
   "cell_type": "code",
   "execution_count": 37,
   "id": "d2bc9698",
   "metadata": {},
   "outputs": [
    {
     "name": "stdout",
     "output_type": "stream",
     "text": [
      "{2022: {'Branch 1': {'Roll Number 1': {'Number': 1, 'Name': 'N', 'Marks': {'Maths': 100, 'English': 70}}}, 'Branch 2': {}}, 2023: {'Branch 1': {}, 'Branch 2': {}}, 2024: {'Branch 1': {}, 'Branch 2': {}}, 2025: {'Branch 1': {}, 'Branch 2': {}}}\n"
     ]
    }
   ],
   "source": [
    "marks_1 = {\"Maths\":100,\"English\":70}\n",
    "roll_no_1 = {\"Number\":1,\"Name\":\"N\",\"Marks\":marks_1}\n",
    "branch1_2022 = {\"Roll Number 1\":roll_no_1}\n",
    "branch2_2022 = {}\n",
    "branch1_2023 = {}\n",
    "branch2_2023 = {}\n",
    "branch1_2024 = {}\n",
    "branch2_2024 = {}\n",
    "branch1_2025 = {}\n",
    "branch2_2025 = {}\n",
    "records = {\n",
    "    2022:{\"Branch 1\":branch1_2022,\"Branch 2\":branch2_2022}, 2023:{\"Branch 1\":branch1_2023,\"Branch 2\": branch2_2023},\n",
    "    2024:{\"Branch 1\":branch1_2024,\"Branch 2\":branch2_2024}, 2025:{\"Branch 1\":branch1_2025,\"Branch 2\":branch2_2025}\n",
    "}\n",
    "print(records)"
   ]
  },
  {
   "cell_type": "markdown",
   "id": "37785763",
   "metadata": {},
   "source": [
    "**Q8**\n",
    "\n",
    "Storing the same information using Python classes - "
   ]
  },
  {
   "cell_type": "code",
   "execution_count": null,
   "id": "625c5184",
   "metadata": {},
   "outputs": [],
   "source": [
    "class records:\n",
    "    def __init__(self):\n",
    "        self.years = []\n",
    "    def yr(self, year):\n",
    "        self.years.append(year)\n",
    "\n",
    "class year:\n",
    "    def __init__(self, year):\n",
    "        self.year = year\n",
    "        self.branches = []\n",
    "    def branch_new(self, branch):\n",
    "        self.branches.append(branch)\n",
    "    \n",
    "class branch:\n",
    "    def __init__(self, name):\n",
    "        self.name = name\n",
    "        self.students = []\n",
    "    def student_new(self, student):\n",
    "        self.students.append(student)\n",
    "\n",
    "class student:\n",
    "    def __init__(self, roll_number, name, marks):\n",
    "        self.roll_number = roll_number\n",
    "        self.name = name\n",
    "        self.marks = marks\n",
    "        \n",
    "class marks:\n",
    "    def __init__(self, maths, english):\n",
    "        self.maths = maths\n",
    "        self.english = english\n",
    "\n",
    "marks1 = marks(100, 70)\n",
    "student1 = student(1, \"N\", marks_1)\n",
    "branch1_2022 = branch(\"Branch 1\")\n",
    "branch1_2022.student_new(student1)\n",
    "\n",
    "branch2_2022 = branch(\"Branch 2\")\n",
    "branch1_2023 = branch(\"Branch 1\")\n",
    "branch2_2023 = branch(\"Branch 2\")\n",
    "branch1_2024 = branch(\"Branch 1\")\n",
    "branch2_2024 = branch(\"Branch 2\")\n",
    "branch1_2025 = branch(\"Branch 1\")\n",
    "branch2_2025 = branch(\"Branch 2\")\n",
    "\n",
    "yr2022 = year(2022)\n",
    "yr2022.branch_new(branch1_2022)\n",
    "yr2022.branch_new(branch2_2022)\n",
    "yr2023 = year(2023)\n",
    "yr2023.branch_new(branch1_2023)\n",
    "yr2023.branch_new(branch2_2023)\n",
    "yr2024 = year(2024)\n",
    "yr2024.branch_new(branch1_2024)\n",
    "yr2024.branch_new(branch2_2024)\n",
    "yr2025 = year(2025)\n",
    "yr2025.branch_new(branch1_2025)\n",
    "yr2025.branch_new(branch2_2025)\n",
    "\n",
    "records = records()\n",
    "records.yr(yr2022)\n",
    "records.yr(yr2023)\n",
    "records.yr(yr2024)\n",
    "records.yr(yr2025)\n",
    "print(records)"
   ]
  },
  {
   "cell_type": "markdown",
   "id": "769c3476",
   "metadata": {},
   "source": [
    "**Q9**\n",
    "\n",
    "Plotting of the given functions using matplotlib - "
   ]
  },
  {
   "cell_type": "code",
   "execution_count": 23,
   "id": "fdb79733",
   "metadata": {},
   "outputs": [
    {
     "data": {
      "image/png": "[encoded data removed]",
      "text/plain": [
       "<Figure size 1000x800 with 7 Axes>"
      ]
     },
     "metadata": {},
     "output_type": "display_data"
    }
   ],
   "source": [
    "import numpy as np\n",
    "import matplotlib.pyplot as plt\n",
    "x = np.arange(0.5, 100.5, 0.5)\n",
    "f1 = x\n",
    "f2 = x**2\n",
    "f3 = (x**3)/100\n",
    "f4 = np.sin(x) \n",
    "f5 = np.sin(x)/x  \n",
    "f6 = np.log(x)\n",
    "f7 = np.exp(x)\n",
    "\n",
    "plt.figure(figsize=(10, 8))\n",
    "plt.subplot(3, 3, 1)\n",
    "plt.plot(x, f1)\n",
    "plt.title('1')\n",
    "plt.xlabel('x')\n",
    "plt.ylabel('y')\n",
    "\n",
    "plt.subplot(3, 3, 2)\n",
    "plt.plot(x, f2)\n",
    "plt.title('2')\n",
    "plt.xlabel('x')\n",
    "plt.ylabel('y')\n",
    "\n",
    "plt.subplot(3, 3, 3)\n",
    "plt.plot(x, f3)\n",
    "plt.title('3')\n",
    "plt.xlabel('x')\n",
    "plt.ylabel('y')\n",
    "\n",
    "plt.subplot(3, 3, 4)\n",
    "plt.plot(x, f4)\n",
    "plt.title('4')\n",
    "plt.xlabel('x')\n",
    "plt.ylabel('y')\n",
    "\n",
    "plt.subplot(3, 3, 5)\n",
    "plt.plot(x, f5)\n",
    "plt.title('5')\n",
    "plt.xlabel('x')\n",
    "plt.ylabel('y')\n",
    "\n",
    "plt.subplot(3, 3, 6)\n",
    "plt.plot(x, f6)\n",
    "plt.title('6')\n",
    "plt.xlabel('x')\n",
    "plt.ylabel('y')\n",
    "\n",
    "plt.subplot(3, 3, 7)\n",
    "plt.plot(x, f7)\n",
    "plt.title('7')\n",
    "plt.xlabel('x')\n",
    "plt.ylabel('y')\n",
    "plt.tight_layout()"
   ]
  },
  {
   "cell_type": "markdown",
   "id": "66e27a68",
   "metadata": {},
   "source": [
    "**Q 10**\n",
    "\n",
    "Below is the code for the required dataframe"
   ]
  },
  {
   "cell_type": "code",
   "execution_count": 13,
   "id": "b60362f9",
   "metadata": {},
   "outputs": [
    {
     "name": "stdout",
     "output_type": "stream",
     "text": [
      "Dataframe is :            a         b         c         d         e\n",
      "0   1.541485  1.055473  1.436422  1.874776  1.952514\n",
      "1   1.696920  1.293342  1.695940  1.084585  1.410026\n",
      "2   1.269570  1.072682  1.437871  1.692579  1.384440\n",
      "3   1.502609  1.574987  1.394518  1.778636  1.103459\n",
      "4   1.848109  1.996491  1.838792  1.671071  1.703766\n",
      "5   1.839658  1.308247  1.393158  1.819825  1.422625\n",
      "6   1.849738  1.038004  1.266731  1.151613  1.273254\n",
      "7   1.881018  1.963008  1.552812  1.350511  1.269264\n",
      "8   1.388285  1.582555  1.772379  1.718046  1.993663\n",
      "9   1.015562  1.904931  1.861330  1.361683  1.813380\n",
      "10  1.990157  1.973761  1.048638  1.879509  1.197660\n",
      "11  1.741443  1.428905  1.014213  1.718187  1.126262\n",
      "12  1.869087  1.366813  1.147349  1.700674  1.918786\n",
      "13  1.747980  1.244045  1.135407  1.361226  1.568414\n",
      "14  1.115331  1.930210  1.762775  1.203008  1.229835\n",
      "15  1.224489  1.392023  1.870700  1.198207  1.821512\n",
      "16  1.250580  1.074733  1.665672  1.719467  1.736026\n",
      "17  1.866711  1.081689  1.859931  1.024953  1.161974\n",
      "18  1.915616  1.447700  1.598024  1.415479  1.431886\n",
      "19  1.745043  1.671290  1.791995  1.780664  1.508753 \n",
      "\n",
      "The column with the highest standard deviation is : b\n",
      "The row with the lowest mean is : 6\n"
     ]
    }
   ],
   "source": [
    "import numpy as np\n",
    "import pandas as pd\n",
    "\n",
    "M = np.random.uniform(1, 2, size=(20, 5))\n",
    "col = [\"a\", \"b\", \"c\", \"d\", \"e\"]\n",
    "df = pd.DataFrame(M, columns=col)\n",
    "print(\"Dataframe is :\",df,\"\\n\")\n",
    "\n",
    "standard_deviation = df.std()\n",
    "highest_sd = standard_deviation.idxmax()\n",
    "print(\"The column with the highest standard deviation is :\",highest_sd)\n",
    "\n",
    "means = df.mean(axis=1)\n",
    "lowest_mean = means.idxmin()\n",
    "print(\"The row with the lowest mean is :\",lowest_mean)"
   ]
  },
  {
   "cell_type": "markdown",
   "id": "e778f14b",
   "metadata": {},
   "source": [
    "**Q11**\n",
    "\n",
    "Doing the given changes in the dataframe - "
   ]
  },
  {
   "cell_type": "code",
   "execution_count": 14,
   "id": "9630132b",
   "metadata": {},
   "outputs": [
    {
     "name": "stdout",
     "output_type": "stream",
     "text": [
      "The number of rows in the dataframe where the value in the column g is LT8 : 14\n",
      "Standard deviation of the column f for the rows where the value in the column d is LT8 is : 0.41594773521337425\n",
      "Standard deviation of the column f for the rows where the value in the column d is GT8 is : 0.408377901045452\n"
     ]
    }
   ],
   "source": [
    "df['f'] = df.sum(axis=1)\n",
    "df['g'] = np.where(df['f'] < 8, 'LT8', 'GT8')\n",
    "num = df[df['g'] == 'LT8'].shape[0]\n",
    "print(\"The number of rows in the dataframe where the value in the column g is LT8 :\",num)\n",
    "\n",
    "sd_LT8 = df[df['g'] == 'LT8']['f'].std()\n",
    "print(\"Standard deviation of the column f for the rows where the value in the column d is LT8 is :\",sd_LT8)\n",
    "\n",
    "sd_GT8 = df[df['g'] == 'GT8']['f'].std()\n",
    "print(\"Standard deviation of the column f for the rows where the value in the column d is GT8 is :\",sd_GT8)"
   ]
  },
  {
   "cell_type": "markdown",
   "id": "214fac2a",
   "metadata": {},
   "source": [
    "**Q12**\n",
    "\n",
    "Broadcasting in numpy allows us to perform operations such as addition/multiplication on matrices with different dimensions. It makes the matrices compatible for the operation. An example is shown below in which matrix  is of dimensions (3,3) and matrix B is of (1,3), But they can be added in numpy using broadcasting. As shown below - "
   ]
  },
  {
   "cell_type": "code",
   "execution_count": 18,
   "id": "74bebeed",
   "metadata": {},
   "outputs": [
    {
     "name": "stdout",
     "output_type": "stream",
     "text": [
      "[[10  7  2]\n",
      " [16  4  7]\n",
      " [13  3  9]]\n"
     ]
    }
   ],
   "source": [
    "import numpy as np\n",
    "A = np.array([[3,6,2],[9,3,7],[6,2,9]])\n",
    "B = np.array([[7,1,0]])\n",
    "\n",
    "ans = A+B\n",
    "print(ans)"
   ]
  },
  {
   "cell_type": "markdown",
   "id": "82e08ce6",
   "metadata": {},
   "source": [
    "**Q13**\n",
    "\n",
    "Below is the code for find argmin in a numpy array - "
   ]
  },
  {
   "cell_type": "code",
   "execution_count": 23,
   "id": "c791814e",
   "metadata": {},
   "outputs": [
    {
     "name": "stdout",
     "output_type": "stream",
     "text": [
      "We got correct minimum index as : 8\n"
     ]
    }
   ],
   "source": [
    "import numpy as np\n",
    "arr = np.array([34,7,6,4,345,6,56,5,3,4,56])\n",
    "\n",
    "min1 = arr[0]\n",
    "index1 = 0\n",
    "for i in range(1,len(arr)):\n",
    "    if(arr[i]<min1):\n",
    "        min1 = arr[i]\n",
    "        index1 = i      \n",
    "index2 = np.argmin(arr)\n",
    "\n",
    "if(index1==index2):\n",
    "    print(\"We got correct minimum index as :\", index1)\n",
    "else:\n",
    "    print(\"Didn't got correct minimum index\")"
   ]
  }
 ],
 "metadata": {
  "kernelspec": {
   "display_name": "Python 3 (ipykernel)",
   "language": "python",
   "name": "python3"
  },
  "language_info": {
   "codemirror_mode": {
    "name": "ipython",
    "version": 3
   },
   "file_extension": ".py",
   "mimetype": "text/x-python",
   "name": "python",
   "nbconvert_exporter": "python",
   "pygments_lexer": "ipython3",
   "version": "3.11.0"
  }
 },
 "nbformat": 4,
 "nbformat_minor": 5
}
